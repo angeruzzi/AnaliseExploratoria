{
  "nbformat": 4,
  "nbformat_minor": 0,
  "metadata": {
    "colab": {
      "name": "Analise Exploratória - Perfil do Profissional de Dados BR",
      "provenance": [],
      "collapsed_sections": [],
      "authorship_tag": "ABX9TyNwJIwio/oJXWNL7Y+pG7oP",
      "include_colab_link": true
    },
    "kernelspec": {
      "name": "python3",
      "display_name": "Python 3"
    },
    "language_info": {
      "name": "python"
    }
  },
  "cells": [
    {
      "cell_type": "markdown",
      "metadata": {
        "id": "view-in-github",
        "colab_type": "text"
      },
      "source": [
        "<a href=\"https://colab.research.google.com/github/angeruzzi/AnaliseExploratoria/blob/main/Analise_Explorat%C3%B3ria_Perfil_do_Profissional_de_Dados_BR.ipynb\" target=\"_parent\"><img src=\"https://colab.research.google.com/assets/colab-badge.svg\" alt=\"Open In Colab\"/></a>"
      ]
    },
    {
      "cell_type": "markdown",
      "metadata": {
        "id": "ZzTl5Pa6lmKf"
      },
      "source": [
        "#**PERFIL PROFISSIONAL DE DADOS BR**\n",
        "\n",
        "##**Sumário**\n",
        "\n",
        "1. [Introdução](#intro)\n",
        "2. [Perguntas Realizadas na Pesquisa](#perguntas)\n",
        "3. [Importações Iniciais](#importa)\n",
        "4. [Conhecendo a estrutura dos dados](#estrut)\n",
        "5. [Tratamento e Transformação de dados](#trata)\n",
        "6. [Perfil Básico dos participantes](#perfil)\n",
        "  1. [Sexo](#sexo)\n",
        "  2. [Idade](#Idade)\n",
        "  3. [Cargos](#cargo)\n",
        "  4. [Escolaridade](#escolaridade)\n",
        "  5. [Remuneração](#remuneracao)\n",
        "7. [Cientista de Dados](#ds)\n",
        "  1. [Identificação com Data Science](#identifica)\n",
        "  2. [Remuneração](#remuneracaods)\n",
        "    1. [Pela idade e tamanho da Empresa](#remuneracaods1)\n",
        "    2. [Pelo Tempo de Experiência em Dados](#remuneracaods2)\n",
        "    3. [Pelo Tempo de Experiência em TI](#remuneracaods3)\n",
        "  3. [Tecnologias](#tecnologia)\n",
        "    1. [Ferramentas de BI](#toolbi)\n",
        "    2. [Linguagens](#linguagem)\n",
        "    3. [Algorítmos](#algoritmo)\n",
        "\n",
        "\n",
        "\n",
        "##**1 - Introdução** <a name=\"intro\"></a>\n",
        "\n",
        "O uso de dados para orientação e solução de problemas de negócios já tem história, mas é recente um movimento de real valorização das informações e também dos profissionais que lidam com os dados assim como a identificação dos profissionais dedicados a isso que antes, mesmo já utilizando ferramentas e técnicas avançadas, estavam espalhados em diversas profissões.\n",
        "\n",
        "Em 2019 a comunidade DataHackers realizou uma pesquisa para identificação desses profissionais que estão surgindo.\n",
        "Abaixo foram realizadas algumas análises dos dados obtidos na pesquisa juntamente com as técnicas utilizadas para a análise.\n",
        "\n",
        "\n",
        "##**2 - Perguntas Realizadas na Pesquisa** <a name=\"perguntas\"></a>\n",
        "\n",
        "Na pesquisa as seguintes perguntas foram Realizadas.\n",
        "Nota: As perguntas com dados considerados não relevantes para análise foram tachados.\n",
        "\n",
        "1. Pergunta_1 (P1) = Idade? [Mascarada]\n",
        "2. Pergunta_2 (P2) = Gênero? [Mascarada]\n",
        "3. Pergunta_3 (P3) = Atualmente você vive no Brasil?\n",
        "4. Pergunta_4 (P4) = ~~Em que país você vive hoje?~~\n",
        "5. Pergunta_5 (P5) = Em que estado você vive hoje? [Mascarada]\n",
        "6. Pergunta_6 (P6) = Na questão anterior você disse que vive em _____ . Esse é seu estado de origem (onde nasceu ou se formou)?\n",
        "7. Pergunta_7 (P7) = ~~Qual seu estado de origem?~~\n",
        "8. Pergunta_8 (P8) = Qual seu nível de ensino? \n",
        "9. Pergunta_9 (P9) = ~~Qual sua área de formação?~~\n",
        "10. Pergunta_10 (P10) = Qual sua situação atual de trabalho? \n",
        "11. Pergunta_11 (P11) = ~~A empresa em que você trabalha pertence a qual setor?~~\n",
        "12. Pergunta_12 (P12) = A empresa em que você trabalha possui quantos funcionários atualmente?\n",
        "13. Pergunta_13 (P13) = Você atua como gestor?\n",
        "14. Pergunta_14 (P14) = ~~Qual das opções abaixo definem melhor seu cargo de trabalho atual como gestor?~~\n",
        "15. Pergunta_15 (P15) = ~~Qual das opções abaixo definem melhor seu cargo de trabalho atual?~~\n",
        "16. Pergunta_16 (P16) = Qual sua faixa salarial atual? [Mascarada]\n",
        "17. Pergunta_17 (P17) = Quanto tempo de experiência na área de dados você tem?\n",
        "18. Pergunta_18 (P18) = Quanto tempo de experiência na área de TI/Engenharia de Software você teve antes de começar a trabalhar na área de dados?\n",
        "19. Pergunta_19 (P19) = Você se considera um profissional que atua na área de Data Science?\n",
        "20. Pergunta_20 (P20) = Quais dos métodos listados abaixo você costuma utilizar no trabalho?\n",
        "21. Pergunta_21 (P21) = Quais das linguagens de programação listadas abaixo você utiliza no trabalho?\n",
        "22. Pergunta_22 (P22) = Entre as linguagens de programação listadas abaixo, qual é a que você mais utiliza no trabalho? [Mascarada]\n",
        "23. Pergunta_23 (P23) = Quais das fontes de dados listadas você já analisou no trabalho?\n",
        "24. Pergunta_24 (P24) = Entre as fontes de dados listadas, quais você utiliza na maior parte do tempo? Selecione no máximo duas opções que você mais utiliza.\n",
        "25. Pergunta_25 (P25) = Quais das opções de Cloud listadas abaixo você utiliza no trabalho?\n",
        "26. Pergunta_26 (P26) = Quais dos bancos de dados/fontes de dados listados abaixo você utiliza para consultar informações, e posteriormente analisar, no trabalho?\n",
        "27. Pergunta_27 (P27) = Quais as Ferramentas de Business Intelligence você utiliza no trabalho?\n",
        "28. Pergunta_28 (P28) = Quais as tecnologias são utilizadas como ferramenta de ETL no seu trabalho?\n",
        "29. Pergunta_29 (P29) = ~~Sua organização possui um Data Warehouse?~~\n",
        "30. Pergunta_30 (P30) = Qual tecnologia utilizada como plataforma do Data Warehouse?\n",
        "31. Pergunta_31 (P31) = Quais das iniciativas do Data Hackers que você já acessou/acompanhou?\n",
        "32. Pergunta_32 (P32) = Entre as iniciativas do Data Hackers qual a sua preferida?\n",
        "33. Pergunta_33 (P33) = De quais outras formas que você costuma se atualizar no mundo dos dados?\n",
        "34. Pergunta_34 (P34) = Em quais dessas plataformas listadas abaixo você já iniciou/completou cursos na área de Data Science?\n",
        "35. Pergunta_35 (P35) = Dentre as plataformas listadas abaixo qual foi a sua preferida para cursos de Data Science?\n",
        "36. Pergunta_36 (P36) = Você deseja participar do sorteio?\n",
        "\n",
        "Além dessas, derivamos algumas outras colunas:\n",
        "1. Derivado_1 (D1) = Macrorregião em que mora\n",
        "2. Derivado_2 (D2) = ~~Macrorregião em que nasceu~~\n",
        "3. Derivado_3 (D3) = Área de formação anonimizada\n",
        "4. Derivado_4 (D4) = Setor de mercado anonimizado\n",
        "5. Derivado_5 (D5) = ~~Nível de gerência anonimizado~~\n",
        "6. Derivado_6 (D6) = Cargo anonimizado"
      ]
    },
    {
      "cell_type": "markdown",
      "metadata": {
        "id": "8qfkTCb2wVEZ"
      },
      "source": [
        "##3 - **Importações Iniciais** <a name=\"importa\"></a>"
      ]
    },
    {
      "cell_type": "code",
      "metadata": {
        "id": "gCWAej4Ki6e-"
      },
      "source": [
        "#Importação da bilbioteca utilizada\n",
        "import pandas as pd"
      ],
      "execution_count": 3,
      "outputs": []
    },
    {
      "cell_type": "code",
      "metadata": {
        "colab": {
          "base_uri": "https://localhost:8080/"
        },
        "id": "iM2BgazJjDrx",
        "outputId": "46a66115-3c88-4600-9ccb-07f7cadc5cff"
      },
      "source": [
        "#Importação do Dataset\n",
        "#fonte original: https://www.kaggle.com/datahackers/pesquisa-data-hackers-2019\n",
        "\n",
        "url ='https://raw.githubusercontent.com/angeruzzi/AnaliseExploratoria/main/datahackers-survey-2019-anonymous-responses.csv'\n",
        "dadosOri = pd.read_csv(url)\n",
        "dadosOri.info()"
      ],
      "execution_count": 4,
      "outputs": [
        {
          "output_type": "stream",
          "text": [
            "<class 'pandas.core.frame.DataFrame'>\n",
            "RangeIndex: 1765 entries, 0 to 1764\n",
            "Columns: 170 entries, ('P0', 'id') to ('D6', 'anonymized_role')\n",
            "dtypes: float64(5), int64(146), object(19)\n",
            "memory usage: 2.3+ MB\n"
          ],
          "name": "stdout"
        }
      ]
    },
    {
      "cell_type": "markdown",
      "metadata": {
        "id": "HB2-LcuLwqqs"
      },
      "source": [
        "##**4 - Conhecendo a estrutura dos dados** <a name=\"estrut\"></a>"
      ]
    },
    {
      "cell_type": "code",
      "metadata": {
        "colab": {
          "base_uri": "https://localhost:8080/"
        },
        "id": "rh6BQePRmfmw",
        "outputId": "656ae64d-3dde-4dc7-bd73-8d592363d60f"
      },
      "source": [
        "#Conhecendo os dados\n",
        "\n",
        "#Estrutura do Dataset\n",
        "print(dadosOri.shape)\n",
        "print(dadosOri.columns.values)"
      ],
      "execution_count": 5,
      "outputs": [
        {
          "output_type": "stream",
          "text": [
            "(1765, 170)\n",
            "[\"('P0', 'id')\" \"('P1', 'age')\" \"('P2', 'gender')\"\n",
            " \"('P3', 'living_in_brasil')\" \"('P5', 'living_state')\"\n",
            " \"('P6', 'born_or_graduated')\" \"('P8', 'degreee_level')\"\n",
            " \"('P10', 'job_situation')\" \"('P12', 'workers_number')\"\n",
            " \"('P13', 'manager')\" \"('P16', 'salary_range')\"\n",
            " \"('P17', 'time_experience_data_science')\"\n",
            " \"('P18', 'time_experience_before')\"\n",
            " \"('P19', 'is_data_science_professional')\" \"('P20', 'linear_regression')\"\n",
            " \"('P20', 'logistic_regression')\" \"('P20', 'glms')\"\n",
            " \"('P20', 'decision_tree')\" \"('P20', 'random_forest')\"\n",
            " \"('P20', 'neural_networks')\" \"('P20', 'bayesian_inference')\"\n",
            " \"('P20', 'ensemble')\" \"('P20', 'svms')\" \"('P20', 'cnns')\"\n",
            " \"('P20', 'rnns')\" \"('P20', 'hmms')\" \"('P20', 'gans')\"\n",
            " \"('P20', 'markov_chains')\" \"('P20', 'nlp')\"\n",
            " \"('P20', 'gradient_boosted_machines')\" \"('P20', 'cluster_analysis')\"\n",
            " \"('P20', 'survival_analysis')\" \"('P20', 'longitudinal_data_analysis')\"\n",
            " \"('P20', 'joint analysis')\" \"('P20', 'no_listed_methods')\"\n",
            " \"('P21', 'sql_')\" \"('P21', 'r')\" \"('P21', 'python')\"\n",
            " \"('P21', 'c_c++_c#')\" \"('P21', 'dotnet')\" \"('P21', 'java')\"\n",
            " \"('P21', 'julia')\" \"('P21', 'sas_stata')\" \"('P21', 'visual_basic_vba')\"\n",
            " \"('P21', 'scala')\" \"('P21', 'matlab')\" \"('P21', 'php')\"\n",
            " \"('P21', 'no_listed_languages')\"\n",
            " \"('P22', 'most_used_proggraming_languages')\" \"('P23', 'sql')\"\n",
            " \"('P23', 'nosql')\" \"('P23', 'images')\" \"('P23', 'nlp')\"\n",
            " \"('P23', 'videos')\" \"('P23', 'sheets')\" \"('P23', 'other')\"\n",
            " \"('P24', 'sql')\" \"('P24', 'nosql')\" \"('P24', 'imagens')\" \"('P24', 'nlp')\"\n",
            " \"('P24', 'vídeos')\" \"('P24', 'planilhas')\" \"('P24', 'other')\"\n",
            " \"('P25', 'aws')\" \"('P25', 'gcp')\" \"('P25', 'azure')\" \"('P25', 'ibm')\"\n",
            " \"('P25', 'on_premise_servers')\" \"('P25', 'cloud_própria')\"\n",
            " \"('P25', 'other')\" \"('P26', 'mysql')\" \"('P26', 'oracle')\"\n",
            " \"('P26', 'sql_server')\" \"('P26', 'aurora')\" \"('P26', 'dynamodb')\"\n",
            " \"('P26', 'coachdb')\" \"('P26', 'cassandra')\" \"('P26', 'mongodb')\"\n",
            " \"('P26', 'mariadb')\" \"('P26', 'datomic')\" \"('P26', 's3')\"\n",
            " \"('P26', 'postgresql')\" \"('P26', 'elaticsearch')\" \"('P26', 'db2')\"\n",
            " \"('P26', 'ms_access')\" \"('P26', 'sqlite')\" \"('P26', 'sybase')\"\n",
            " \"('P26', 'firebase')\" \"('P26', 'vertica')\" \"('P26', 'redis')\"\n",
            " \"('P26', 'neo4j')\" \"('P26', 'google_bigtable')\" \"('P26', 'hbase')\"\n",
            " \"('P26', 'other')\" \"('P27', 'microsoft_powerbi')\"\n",
            " \"('P27', 'qlik_view_qlik_sense')\" \"('P27', 'tableau')\"\n",
            " \"('P27', 'metabase')\" \"('P27', 'superset')\" \"('P27', 'redash')\"\n",
            " \"('P27', 'microstrategy')\" \"('P27', 'ibm_analytics_cognos')\"\n",
            " \"('P27', 'sap_business_objects')\"\n",
            " \"('P27', 'oracle_business_intelligence')\" \"('P27', 'birst')\"\n",
            " \"('P27', 'looker')\" \"('P27', 'google_data_studio')\"\n",
            " \"('P27', 'only_excel_gsheets')\" \"('P27', 'no_bi_tool_at_work')\"\n",
            " \"('P27', 'other')\" \"('P28', 'sql_&_stored_procedures')\"\n",
            " \"('P28', 'apache_airflow')\" \"('P28', 'luigi')\" \"('P28', 'aws_glue')\"\n",
            " \"('P28', 'talend')\" \"('P28', 'pentaho')\" \"('P28', 'alteryx')\"\n",
            " \"('P28', 'oracle_data_integrator')\" \"('P28', 'ibm_data_stage')\"\n",
            " \"('P28', 'sap_bw_etl')\" \"('P28', 'siss_sql_server_integration_services')\"\n",
            " \"('P28', 'other')\" \"('P29', 'have_data_warehouse')\"\n",
            " \"('P30', 'google_bigquery')\" \"('P30', 'aws_redshift')\"\n",
            " \"('P30', 'snowflake')\" \"('P30', 'oracle')\" \"('P30', 'postgres_mysql')\"\n",
            " \"('P30', 'ibm')\" \"('P30', 'teradata')\" \"('P30', 'microsoft_azure')\"\n",
            " \"('P30', 'do_not_know')\" \"('P30', 'other')\"\n",
            " \"('P31', 'data_hackers_blog')\" \"('P31', 'data_hackers_podcast')\"\n",
            " \"('P31', 'weekly_newsletter')\" \"('P31', 'slack_channel')\"\n",
            " \"('P31', 'data_hackers_bootcamp')\" \"('P31', 'do_not_know_data_hackers')\"\n",
            " \"('P32', 'prefered_data_hackers_initiative')\"\n",
            " \"('P33', 'telegram_groups')\" \"('P33', 'whatsapp_groups')\"\n",
            " \"('P33', 'youtube_channels')\" \"('P33', 'other_brasilian_blogs')\"\n",
            " \"('P33', 'other_slack_channels')\" \"('P33', 'twitter')\"\n",
            " \"('P33', 'abroad_blogs')\" \"('P33', 'abroad_podcasts')\"\n",
            " \"('P33', 'meetups_and_events')\" \"('P33', 'only_data_hackers')\"\n",
            " \"('P33', 'other')\" \"('P34', 'udacity')\" \"('P34', 'coursera')\"\n",
            " \"('P34', 'udemy')\" \"('P34', 'height')\" \"('P34', 'edx')\"\n",
            " \"('P34', 'data_camp')\" \"('P34', 'data_quest')\" \"('P34', 'kaggle_learn')\"\n",
            " \"('P34', 'online_courses')\" \"('P34', 'other')\"\n",
            " \"('P35', 'data_science_plataforms_preference')\" \"('P35', 'other')\"\n",
            " \"('P36', 'draw_participation')\" \"('D1', 'living_macroregion')\"\n",
            " \"('D2', 'origin_macroregion')\" \"('D3', 'anonymized_degree_area')\"\n",
            " \"('D4', 'anonymized_market_sector')\" \"('D5', 'anonymized_manager_level')\"\n",
            " \"('D6', 'anonymized_role')\"]\n"
          ],
          "name": "stdout"
        }
      ]
    },
    {
      "cell_type": "code",
      "metadata": {
        "colab": {
          "base_uri": "https://localhost:8080/",
          "height": 403
        },
        "id": "VQFTHpZAnpc8",
        "outputId": "257d1e62-833f-4d00-b4d3-14390b4945d2"
      },
      "source": [
        "#Exemplos de registros\n",
        "dadosOri.head()"
      ],
      "execution_count": 6,
      "outputs": [
        {
          "output_type": "execute_result",
          "data": {
            "text/html": [
              "<div>\n",
              "<style scoped>\n",
              "    .dataframe tbody tr th:only-of-type {\n",
              "        vertical-align: middle;\n",
              "    }\n",
              "\n",
              "    .dataframe tbody tr th {\n",
              "        vertical-align: top;\n",
              "    }\n",
              "\n",
              "    .dataframe thead th {\n",
              "        text-align: right;\n",
              "    }\n",
              "</style>\n",
              "<table border=\"1\" class=\"dataframe\">\n",
              "  <thead>\n",
              "    <tr style=\"text-align: right;\">\n",
              "      <th></th>\n",
              "      <th>('P0', 'id')</th>\n",
              "      <th>('P1', 'age')</th>\n",
              "      <th>('P2', 'gender')</th>\n",
              "      <th>('P3', 'living_in_brasil')</th>\n",
              "      <th>('P5', 'living_state')</th>\n",
              "      <th>('P6', 'born_or_graduated')</th>\n",
              "      <th>('P8', 'degreee_level')</th>\n",
              "      <th>('P10', 'job_situation')</th>\n",
              "      <th>('P12', 'workers_number')</th>\n",
              "      <th>('P13', 'manager')</th>\n",
              "      <th>('P16', 'salary_range')</th>\n",
              "      <th>('P17', 'time_experience_data_science')</th>\n",
              "      <th>('P18', 'time_experience_before')</th>\n",
              "      <th>('P19', 'is_data_science_professional')</th>\n",
              "      <th>('P20', 'linear_regression')</th>\n",
              "      <th>('P20', 'logistic_regression')</th>\n",
              "      <th>('P20', 'glms')</th>\n",
              "      <th>('P20', 'decision_tree')</th>\n",
              "      <th>('P20', 'random_forest')</th>\n",
              "      <th>('P20', 'neural_networks')</th>\n",
              "      <th>('P20', 'bayesian_inference')</th>\n",
              "      <th>('P20', 'ensemble')</th>\n",
              "      <th>('P20', 'svms')</th>\n",
              "      <th>('P20', 'cnns')</th>\n",
              "      <th>('P20', 'rnns')</th>\n",
              "      <th>('P20', 'hmms')</th>\n",
              "      <th>('P20', 'gans')</th>\n",
              "      <th>('P20', 'markov_chains')</th>\n",
              "      <th>('P20', 'nlp')</th>\n",
              "      <th>('P20', 'gradient_boosted_machines')</th>\n",
              "      <th>('P20', 'cluster_analysis')</th>\n",
              "      <th>('P20', 'survival_analysis')</th>\n",
              "      <th>('P20', 'longitudinal_data_analysis')</th>\n",
              "      <th>('P20', 'joint analysis')</th>\n",
              "      <th>('P20', 'no_listed_methods')</th>\n",
              "      <th>('P21', 'sql_')</th>\n",
              "      <th>('P21', 'r')</th>\n",
              "      <th>('P21', 'python')</th>\n",
              "      <th>('P21', 'c_c++_c#')</th>\n",
              "      <th>('P21', 'dotnet')</th>\n",
              "      <th>...</th>\n",
              "      <th>('P30', 'microsoft_azure')</th>\n",
              "      <th>('P30', 'do_not_know')</th>\n",
              "      <th>('P30', 'other')</th>\n",
              "      <th>('P31', 'data_hackers_blog')</th>\n",
              "      <th>('P31', 'data_hackers_podcast')</th>\n",
              "      <th>('P31', 'weekly_newsletter')</th>\n",
              "      <th>('P31', 'slack_channel')</th>\n",
              "      <th>('P31', 'data_hackers_bootcamp')</th>\n",
              "      <th>('P31', 'do_not_know_data_hackers')</th>\n",
              "      <th>('P32', 'prefered_data_hackers_initiative')</th>\n",
              "      <th>('P33', 'telegram_groups')</th>\n",
              "      <th>('P33', 'whatsapp_groups')</th>\n",
              "      <th>('P33', 'youtube_channels')</th>\n",
              "      <th>('P33', 'other_brasilian_blogs')</th>\n",
              "      <th>('P33', 'other_slack_channels')</th>\n",
              "      <th>('P33', 'twitter')</th>\n",
              "      <th>('P33', 'abroad_blogs')</th>\n",
              "      <th>('P33', 'abroad_podcasts')</th>\n",
              "      <th>('P33', 'meetups_and_events')</th>\n",
              "      <th>('P33', 'only_data_hackers')</th>\n",
              "      <th>('P33', 'other')</th>\n",
              "      <th>('P34', 'udacity')</th>\n",
              "      <th>('P34', 'coursera')</th>\n",
              "      <th>('P34', 'udemy')</th>\n",
              "      <th>('P34', 'height')</th>\n",
              "      <th>('P34', 'edx')</th>\n",
              "      <th>('P34', 'data_camp')</th>\n",
              "      <th>('P34', 'data_quest')</th>\n",
              "      <th>('P34', 'kaggle_learn')</th>\n",
              "      <th>('P34', 'online_courses')</th>\n",
              "      <th>('P34', 'other')</th>\n",
              "      <th>('P35', 'data_science_plataforms_preference')</th>\n",
              "      <th>('P35', 'other')</th>\n",
              "      <th>('P36', 'draw_participation')</th>\n",
              "      <th>('D1', 'living_macroregion')</th>\n",
              "      <th>('D2', 'origin_macroregion')</th>\n",
              "      <th>('D3', 'anonymized_degree_area')</th>\n",
              "      <th>('D4', 'anonymized_market_sector')</th>\n",
              "      <th>('D5', 'anonymized_manager_level')</th>\n",
              "      <th>('D6', 'anonymized_role')</th>\n",
              "    </tr>\n",
              "  </thead>\n",
              "  <tbody>\n",
              "    <tr>\n",
              "      <th>0</th>\n",
              "      <td>v9otv8j9wdvjrv9otvwnn9owhzq54ktv</td>\n",
              "      <td>37.0</td>\n",
              "      <td>Masculino</td>\n",
              "      <td>1</td>\n",
              "      <td>Minas Gerais (MG)</td>\n",
              "      <td>1.0</td>\n",
              "      <td>Estudante de Graduação</td>\n",
              "      <td>Empregado (CTL)</td>\n",
              "      <td>de 1 a 5</td>\n",
              "      <td>0.0</td>\n",
              "      <td>de R$ 1.001/mês a R$ 2.000/mês</td>\n",
              "      <td>Não tenho experiência na área de dados</td>\n",
              "      <td>Não tive experiência na área de TI/Engenharia ...</td>\n",
              "      <td>0</td>\n",
              "      <td>0</td>\n",
              "      <td>0</td>\n",
              "      <td>0</td>\n",
              "      <td>0</td>\n",
              "      <td>0</td>\n",
              "      <td>0</td>\n",
              "      <td>0</td>\n",
              "      <td>0</td>\n",
              "      <td>0</td>\n",
              "      <td>0</td>\n",
              "      <td>0</td>\n",
              "      <td>0</td>\n",
              "      <td>0</td>\n",
              "      <td>0</td>\n",
              "      <td>0</td>\n",
              "      <td>0</td>\n",
              "      <td>0</td>\n",
              "      <td>0</td>\n",
              "      <td>0</td>\n",
              "      <td>0</td>\n",
              "      <td>0</td>\n",
              "      <td>0</td>\n",
              "      <td>0</td>\n",
              "      <td>0</td>\n",
              "      <td>0</td>\n",
              "      <td>0</td>\n",
              "      <td>...</td>\n",
              "      <td>0</td>\n",
              "      <td>0</td>\n",
              "      <td>0</td>\n",
              "      <td>0</td>\n",
              "      <td>0</td>\n",
              "      <td>0</td>\n",
              "      <td>0</td>\n",
              "      <td>0</td>\n",
              "      <td>1</td>\n",
              "      <td>Ainda não conhecia o Data Hackers</td>\n",
              "      <td>0</td>\n",
              "      <td>0</td>\n",
              "      <td>1</td>\n",
              "      <td>0</td>\n",
              "      <td>0</td>\n",
              "      <td>0</td>\n",
              "      <td>0</td>\n",
              "      <td>0</td>\n",
              "      <td>0</td>\n",
              "      <td>0</td>\n",
              "      <td>0</td>\n",
              "      <td>0</td>\n",
              "      <td>0</td>\n",
              "      <td>0</td>\n",
              "      <td>0</td>\n",
              "      <td>0</td>\n",
              "      <td>0</td>\n",
              "      <td>0</td>\n",
              "      <td>0</td>\n",
              "      <td>1</td>\n",
              "      <td>0</td>\n",
              "      <td>Nunca fiz cursos online</td>\n",
              "      <td>NaN</td>\n",
              "      <td>1.0</td>\n",
              "      <td>Região Sudeste</td>\n",
              "      <td>NaN</td>\n",
              "      <td>Computação / Engenharia de Software / Sistemas...</td>\n",
              "      <td>Outras</td>\n",
              "      <td>NaN</td>\n",
              "      <td>Outras</td>\n",
              "    </tr>\n",
              "    <tr>\n",
              "      <th>1</th>\n",
              "      <td>875ul998t0hqcv0871uptwf3oswcfv35</td>\n",
              "      <td>24.0</td>\n",
              "      <td>Feminino</td>\n",
              "      <td>1</td>\n",
              "      <td>São Paulo (SP)</td>\n",
              "      <td>1.0</td>\n",
              "      <td>Estudante de Graduação</td>\n",
              "      <td>Empregado (CTL)</td>\n",
              "      <td>Acima de 3000</td>\n",
              "      <td>0.0</td>\n",
              "      <td>de R$ 2.001/mês a R$ 3000/mês</td>\n",
              "      <td>Menos de 1 ano</td>\n",
              "      <td>Não tive experiência na área de TI/Engenharia ...</td>\n",
              "      <td>1</td>\n",
              "      <td>0</td>\n",
              "      <td>0</td>\n",
              "      <td>0</td>\n",
              "      <td>0</td>\n",
              "      <td>0</td>\n",
              "      <td>0</td>\n",
              "      <td>0</td>\n",
              "      <td>0</td>\n",
              "      <td>0</td>\n",
              "      <td>0</td>\n",
              "      <td>0</td>\n",
              "      <td>0</td>\n",
              "      <td>0</td>\n",
              "      <td>0</td>\n",
              "      <td>0</td>\n",
              "      <td>0</td>\n",
              "      <td>0</td>\n",
              "      <td>0</td>\n",
              "      <td>0</td>\n",
              "      <td>0</td>\n",
              "      <td>1</td>\n",
              "      <td>1</td>\n",
              "      <td>0</td>\n",
              "      <td>1</td>\n",
              "      <td>0</td>\n",
              "      <td>0</td>\n",
              "      <td>...</td>\n",
              "      <td>0</td>\n",
              "      <td>0</td>\n",
              "      <td>0</td>\n",
              "      <td>0</td>\n",
              "      <td>0</td>\n",
              "      <td>0</td>\n",
              "      <td>0</td>\n",
              "      <td>0</td>\n",
              "      <td>1</td>\n",
              "      <td>Ainda não conhecia o Data Hackers</td>\n",
              "      <td>0</td>\n",
              "      <td>0</td>\n",
              "      <td>1</td>\n",
              "      <td>0</td>\n",
              "      <td>0</td>\n",
              "      <td>0</td>\n",
              "      <td>0</td>\n",
              "      <td>0</td>\n",
              "      <td>0</td>\n",
              "      <td>0</td>\n",
              "      <td>0</td>\n",
              "      <td>0</td>\n",
              "      <td>0</td>\n",
              "      <td>1</td>\n",
              "      <td>0</td>\n",
              "      <td>0</td>\n",
              "      <td>0</td>\n",
              "      <td>0</td>\n",
              "      <td>0</td>\n",
              "      <td>0</td>\n",
              "      <td>1</td>\n",
              "      <td>NaN</td>\n",
              "      <td>Data Science Academy</td>\n",
              "      <td>0.0</td>\n",
              "      <td>Região Sudeste</td>\n",
              "      <td>NaN</td>\n",
              "      <td>Computação / Engenharia de Software / Sistemas...</td>\n",
              "      <td>Educação</td>\n",
              "      <td>NaN</td>\n",
              "      <td>Data Analyst/Analista de Dados</td>\n",
              "    </tr>\n",
              "    <tr>\n",
              "      <th>2</th>\n",
              "      <td>puscuk079vw1pusbb900pzw2xvpxtgdk</td>\n",
              "      <td>26.0</td>\n",
              "      <td>Masculino</td>\n",
              "      <td>1</td>\n",
              "      <td>São Paulo (SP)</td>\n",
              "      <td>1.0</td>\n",
              "      <td>Graduação/Bacharelado</td>\n",
              "      <td>Empregado (CTL)</td>\n",
              "      <td>Acima de 3000</td>\n",
              "      <td>0.0</td>\n",
              "      <td>de R$ 4.001/mês a R$ 6.000/mês</td>\n",
              "      <td>de 1 a 2 anos</td>\n",
              "      <td>de 6 a 10 anos</td>\n",
              "      <td>1</td>\n",
              "      <td>0</td>\n",
              "      <td>0</td>\n",
              "      <td>0</td>\n",
              "      <td>0</td>\n",
              "      <td>1</td>\n",
              "      <td>1</td>\n",
              "      <td>0</td>\n",
              "      <td>1</td>\n",
              "      <td>1</td>\n",
              "      <td>0</td>\n",
              "      <td>0</td>\n",
              "      <td>0</td>\n",
              "      <td>0</td>\n",
              "      <td>0</td>\n",
              "      <td>0</td>\n",
              "      <td>0</td>\n",
              "      <td>1</td>\n",
              "      <td>0</td>\n",
              "      <td>0</td>\n",
              "      <td>0</td>\n",
              "      <td>0</td>\n",
              "      <td>0</td>\n",
              "      <td>0</td>\n",
              "      <td>1</td>\n",
              "      <td>0</td>\n",
              "      <td>0</td>\n",
              "      <td>...</td>\n",
              "      <td>0</td>\n",
              "      <td>0</td>\n",
              "      <td>0</td>\n",
              "      <td>0</td>\n",
              "      <td>1</td>\n",
              "      <td>1</td>\n",
              "      <td>0</td>\n",
              "      <td>0</td>\n",
              "      <td>0</td>\n",
              "      <td>Newsletter Semanal</td>\n",
              "      <td>0</td>\n",
              "      <td>0</td>\n",
              "      <td>0</td>\n",
              "      <td>1</td>\n",
              "      <td>0</td>\n",
              "      <td>0</td>\n",
              "      <td>0</td>\n",
              "      <td>0</td>\n",
              "      <td>0</td>\n",
              "      <td>0</td>\n",
              "      <td>0</td>\n",
              "      <td>0</td>\n",
              "      <td>1</td>\n",
              "      <td>1</td>\n",
              "      <td>0</td>\n",
              "      <td>0</td>\n",
              "      <td>0</td>\n",
              "      <td>0</td>\n",
              "      <td>1</td>\n",
              "      <td>0</td>\n",
              "      <td>0</td>\n",
              "      <td>Udemy</td>\n",
              "      <td>NaN</td>\n",
              "      <td>1.0</td>\n",
              "      <td>Região Sudeste</td>\n",
              "      <td>NaN</td>\n",
              "      <td>Outras Engenharias</td>\n",
              "      <td>Indústria (Manufatura)</td>\n",
              "      <td>NaN</td>\n",
              "      <td>Outras</td>\n",
              "    </tr>\n",
              "    <tr>\n",
              "      <th>3</th>\n",
              "      <td>rmel8ewqpbffp2mnfbzermel8eqincov</td>\n",
              "      <td>21.0</td>\n",
              "      <td>Masculino</td>\n",
              "      <td>1</td>\n",
              "      <td>São Paulo (SP)</td>\n",
              "      <td>0.0</td>\n",
              "      <td>Estudante de Graduação</td>\n",
              "      <td>Estagiário</td>\n",
              "      <td>de 11 a 50</td>\n",
              "      <td>0.0</td>\n",
              "      <td>de R$ 1.001/mês a R$ 2.000/mês</td>\n",
              "      <td>Menos de 1 ano</td>\n",
              "      <td>de 2 a 3 anos</td>\n",
              "      <td>1</td>\n",
              "      <td>0</td>\n",
              "      <td>0</td>\n",
              "      <td>0</td>\n",
              "      <td>0</td>\n",
              "      <td>1</td>\n",
              "      <td>0</td>\n",
              "      <td>0</td>\n",
              "      <td>0</td>\n",
              "      <td>0</td>\n",
              "      <td>0</td>\n",
              "      <td>0</td>\n",
              "      <td>0</td>\n",
              "      <td>0</td>\n",
              "      <td>0</td>\n",
              "      <td>0</td>\n",
              "      <td>0</td>\n",
              "      <td>0</td>\n",
              "      <td>0</td>\n",
              "      <td>0</td>\n",
              "      <td>0</td>\n",
              "      <td>0</td>\n",
              "      <td>1</td>\n",
              "      <td>0</td>\n",
              "      <td>1</td>\n",
              "      <td>0</td>\n",
              "      <td>0</td>\n",
              "      <td>...</td>\n",
              "      <td>0</td>\n",
              "      <td>0</td>\n",
              "      <td>0</td>\n",
              "      <td>0</td>\n",
              "      <td>0</td>\n",
              "      <td>0</td>\n",
              "      <td>0</td>\n",
              "      <td>0</td>\n",
              "      <td>1</td>\n",
              "      <td>Ainda não conhecia o Data Hackers</td>\n",
              "      <td>0</td>\n",
              "      <td>1</td>\n",
              "      <td>0</td>\n",
              "      <td>0</td>\n",
              "      <td>0</td>\n",
              "      <td>0</td>\n",
              "      <td>0</td>\n",
              "      <td>1</td>\n",
              "      <td>0</td>\n",
              "      <td>0</td>\n",
              "      <td>0</td>\n",
              "      <td>0</td>\n",
              "      <td>1</td>\n",
              "      <td>1</td>\n",
              "      <td>1</td>\n",
              "      <td>0</td>\n",
              "      <td>0</td>\n",
              "      <td>0</td>\n",
              "      <td>0</td>\n",
              "      <td>0</td>\n",
              "      <td>0</td>\n",
              "      <td>Alura</td>\n",
              "      <td>NaN</td>\n",
              "      <td>1.0</td>\n",
              "      <td>Região Sudeste</td>\n",
              "      <td>Região Sudeste</td>\n",
              "      <td>Computação / Engenharia de Software / Sistemas...</td>\n",
              "      <td>Tecnologia/Fábrica de Software</td>\n",
              "      <td>NaN</td>\n",
              "      <td>Business Intelligence/Analista de BI</td>\n",
              "    </tr>\n",
              "    <tr>\n",
              "      <th>4</th>\n",
              "      <td>pj9mgud4d6mdct1l7vq0pj9mgu78h6ju</td>\n",
              "      <td>27.0</td>\n",
              "      <td>Masculino</td>\n",
              "      <td>1</td>\n",
              "      <td>NaN</td>\n",
              "      <td>1.0</td>\n",
              "      <td>Graduação/Bacharelado</td>\n",
              "      <td>Freelancer</td>\n",
              "      <td>de 6 a 10</td>\n",
              "      <td>1.0</td>\n",
              "      <td>de R$ 6.001/mês a R$ 8.000/mês</td>\n",
              "      <td>de 4 a 5 anos</td>\n",
              "      <td>de 4 a 5 anos</td>\n",
              "      <td>1</td>\n",
              "      <td>1</td>\n",
              "      <td>0</td>\n",
              "      <td>0</td>\n",
              "      <td>1</td>\n",
              "      <td>1</td>\n",
              "      <td>0</td>\n",
              "      <td>0</td>\n",
              "      <td>1</td>\n",
              "      <td>1</td>\n",
              "      <td>0</td>\n",
              "      <td>1</td>\n",
              "      <td>0</td>\n",
              "      <td>0</td>\n",
              "      <td>0</td>\n",
              "      <td>1</td>\n",
              "      <td>0</td>\n",
              "      <td>0</td>\n",
              "      <td>0</td>\n",
              "      <td>0</td>\n",
              "      <td>0</td>\n",
              "      <td>0</td>\n",
              "      <td>1</td>\n",
              "      <td>0</td>\n",
              "      <td>1</td>\n",
              "      <td>1</td>\n",
              "      <td>0</td>\n",
              "      <td>...</td>\n",
              "      <td>0</td>\n",
              "      <td>0</td>\n",
              "      <td>0</td>\n",
              "      <td>1</td>\n",
              "      <td>0</td>\n",
              "      <td>0</td>\n",
              "      <td>0</td>\n",
              "      <td>0</td>\n",
              "      <td>0</td>\n",
              "      <td>Blog/Medium do Data Hackers</td>\n",
              "      <td>0</td>\n",
              "      <td>0</td>\n",
              "      <td>0</td>\n",
              "      <td>0</td>\n",
              "      <td>0</td>\n",
              "      <td>0</td>\n",
              "      <td>0</td>\n",
              "      <td>0</td>\n",
              "      <td>0</td>\n",
              "      <td>0</td>\n",
              "      <td>1</td>\n",
              "      <td>1</td>\n",
              "      <td>1</td>\n",
              "      <td>1</td>\n",
              "      <td>0</td>\n",
              "      <td>0</td>\n",
              "      <td>0</td>\n",
              "      <td>0</td>\n",
              "      <td>0</td>\n",
              "      <td>0</td>\n",
              "      <td>0</td>\n",
              "      <td>Udemy</td>\n",
              "      <td>NaN</td>\n",
              "      <td>1.0</td>\n",
              "      <td>NaN</td>\n",
              "      <td>NaN</td>\n",
              "      <td>Computação / Engenharia de Software / Sistemas...</td>\n",
              "      <td>Internet/Ecommerce</td>\n",
              "      <td>C-level (CDO, CIO, CTO)</td>\n",
              "      <td>NaN</td>\n",
              "    </tr>\n",
              "  </tbody>\n",
              "</table>\n",
              "<p>5 rows × 170 columns</p>\n",
              "</div>"
            ],
            "text/plain": [
              "                       ('P0', 'id')  ...             ('D6', 'anonymized_role')\n",
              "0  v9otv8j9wdvjrv9otvwnn9owhzq54ktv  ...                                Outras\n",
              "1  875ul998t0hqcv0871uptwf3oswcfv35  ...        Data Analyst/Analista de Dados\n",
              "2  puscuk079vw1pusbb900pzw2xvpxtgdk  ...                                Outras\n",
              "3  rmel8ewqpbffp2mnfbzermel8eqincov  ...  Business Intelligence/Analista de BI\n",
              "4  pj9mgud4d6mdct1l7vq0pj9mgu78h6ju  ...                                   NaN\n",
              "\n",
              "[5 rows x 170 columns]"
            ]
          },
          "metadata": {
            "tags": []
          },
          "execution_count": 6
        }
      ]
    },
    {
      "cell_type": "markdown",
      "metadata": {
        "id": "1FuU5MEZw8O4"
      },
      "source": [
        "##**5 - Tratamento e Transformação de dados** <a name=\"trata\"></a>"
      ]
    },
    {
      "cell_type": "code",
      "metadata": {
        "colab": {
          "base_uri": "https://localhost:8080/"
        },
        "id": "4lMyuVSIoWb3",
        "outputId": "e2252d06-a301-4593-949c-80c453fafd45"
      },
      "source": [
        "#Identificação das Colunas com dados NULL\n",
        "#As colunas acima de 50% de dados nullos serão desconsideradas na análise \n",
        "\n",
        "((dadosOri.isnull().sum()/dadosOri.shape[0])[(dadosOri.isnull().sum()/dadosOri.shape[0])>0.5]).sort_values(ascending=False) "
      ],
      "execution_count": 7,
      "outputs": [
        {
          "output_type": "execute_result",
          "data": {
            "text/plain": [
              "('P35', 'other')                      0.920680\n",
              "('D5', 'anonymized_manager_level')    0.827195\n",
              "('D2', 'origin_macroregion')          0.815864\n",
              "('P29', 'have_data_warehouse')        0.550708\n",
              "dtype: float64"
            ]
          },
          "metadata": {
            "tags": []
          },
          "execution_count": 7
        }
      ]
    },
    {
      "cell_type": "code",
      "metadata": {
        "id": "1E5uSCGu29Pf"
      },
      "source": [
        "#Mapeamentos\n",
        "#Cargos: Os cargos citados na pesquisa serão centralizados em 5 : Engenheiro de Dados, Analista de Dados, Cientista de Dados, Desenvolvedor/Engenheiro de Software e Outras \n",
        "map_cargos = {'Desenvolvedor ou Engenheiro de Software'  : 'Desenvolvedor/Engenheiro de Software', \n",
        "                                            'Outras': 'Outras',\n",
        "                 'Data Scientist/Cientista de Dados': 'Cientista de Dados',\n",
        "                    'Data Analyst/Analista de Dados': 'Analista de Dados',\n",
        "              'Business Intelligence/Analista de BI': 'Analista de BI',\n",
        "                 'Data Engineer/Engenheiro de Dados': 'Engenheiro de Dados',\n",
        "             'Business Analyst/Analista de Negócios': 'Analista de BI',\n",
        "               'Analista de Inteligência de Mercado': 'Analista de BI',\n",
        "                                        'Engenheiro': 'Outras',\n",
        "                             'Analista de Marketing': 'Outras',\n",
        "                    'Engenheiro de Machine Learning': 'Cientista de Dados',\n",
        "               'DBA/Administrador de Banco de Dados': 'Engenheiro de Dados',\n",
        "                                       'Estatístico': 'Cientista de Dados',\n",
        "                                        'Economista': 'Outras'}\n",
        "\n",
        "#Ordenação Escolaridade\n",
        "map_escolOrdem = {'Não tenho graduação formal' : 1,\n",
        " 'Estudante de Graduação'\t\t  : 2,\n",
        " 'Graduação/Bacharelado'\t\t  : 3,   \n",
        " 'Pós-graduação'\t\t\t\t      : 4,    \n",
        " 'Mestrado'\t\t\t\t\t\t        : 5,           \n",
        " 'Doutorado/Phd'\t\t\t\t      : 6,          \n",
        " 'Prefiro não informar'\t\t\t  : 7}\n",
        "\n",
        "#Tamanho empresa\n",
        "#Segmentação do tamanho da Empresa em 3: Pequena, Média e Grande\n",
        "map_tamemp = { 'de 1 a 5': 'Pequena',\n",
        "           'de 6 a 10': 'Pequena',\n",
        "           'de 11 a 50': 'Pequena',\n",
        "           'de 51 a 100': 'Pequena',\n",
        "           'de 101 a 500': 'Média',\n",
        "           'de 501 a 1000': 'Média',\n",
        "           'de 1001 a 3000': 'Grande',\n",
        "           'Acima de 3000': 'Grande'}\n",
        "\n",
        "# Salarios\n",
        "#Tansformação dos Salários segmentados em valores numéricos para melhor análise\n",
        "map_sal = {    'Menos de R$ 1.000/mês': 1000,\n",
        "      'de R$ 1.001/mês a R$ 2.000/mês': 1500, \n",
        "       'de R$ 2.001/mês a R$ 3000/mês': 2500,\n",
        "      'de R$ 3.001/mês a R$ 4.000/mês': 3500,\n",
        "      'de R$ 4.001/mês a R$ 6.000/mês': 5000, \n",
        "      'de R$ 6.001/mês a R$ 8.000/mês': 7000,\n",
        "     'de R$ 8.001/mês a R$ 12.000/mês': 10000,\n",
        "    'de R$ 12.001/mês a R$ 16.000/mês': 14000,\n",
        "    'de R$ 16.001/mês a R$ 20.000/mês': 18000,\n",
        "    'de R$ 20.001/mês a R$ 25.000/mês': 22500, \n",
        "              'Acima de R$ 25.001/mês': 25000}\n",
        "\n",
        "# discretização da idade (escolha arbitraria dos cortes)\n",
        "cortes = [0, 24, 30, 40, 100]\n",
        "nomes = ['[18,24]', '[25,30]', '[31,40]', '[41,50]']\n",
        "\n",
        "#Criação de um novo Dataframe apenas com as colunas que serão utilizadas na Análise\n",
        "#Com os dados já transformados\n",
        "dados = pd.DataFrame()\n",
        "\n",
        "#SEM TRANSFORMAÇÃO\n",
        "dados['idade']                = dadosOri[\"('P1', 'age')\"]\n",
        "dados['sexo']                 = dadosOri[\"('P2', 'gender')\"]\n",
        "#dados['tipo_de_trabalho']     = dadosOri[\"('P10', 'job_situation')\"]\n",
        "dados['escolaridade']         = dadosOri[\"('P8', 'degreee_level')\"]\n",
        "#dados['area_de_formacao']     = dadosOri[\"('D3', 'anonymized_degree_area')\"]\n",
        "dados['setor_de_mercado']     = dadosOri[\"('D4', 'anonymized_market_sector')\"]\n",
        "dados['plataforma_favorita']  = dadosOri[\"('P35', 'data_science_plataforms_preference')\"] \n",
        "\n",
        "#MAP\n",
        "dados['cargo']                = dadosOri[\"('D6', 'anonymized_role')\"].map(map_cargos)\n",
        "dados['salario']              = dadosOri[\"('P16', 'salary_range')\"].map(map_sal)  \n",
        "dados['tamanho_empresa']      = dadosOri[\"('P12', 'workers_number')\"].map(map_tamemp) \n",
        "dados['gestor']               = dadosOri[\"('P13', 'manager')\"].map({0: 'não', 1: 'sim'})\n",
        "dados['se_considera_ds']      = dadosOri[\"('P19', 'is_data_science_professional')\"].map({0: 'não', 1: 'sim'})\n",
        "dados['escol_ordem']          = dadosOri[\"('P8', 'degreee_level')\"].map(map_escolOrdem)\n",
        "\n",
        "#DISCRETIZAÇÃO\n",
        "dados['idade_disc']           = pd.cut(dadosOri[\"('P1', 'age')\"], bins = cortes, labels = nomes)\n",
        "\n",
        "#REPLACE\n",
        "dados['experiencia_ant']      = dadosOri[\"('P18', 'time_experience_before')\"].replace({'Não tive experiência na área de TI/Engenharia de Software antes de começar a trabalhar na área de dados': 'Sem Experiência'})\n",
        "dados['experiencia_ds']       = dadosOri[\"('P17', 'time_experience_data_science')\"].replace({'Não tenho experiência na área de dados': 'Sem Experiência'})\n",
        "\n",
        "#Renomeação das colunas referentes aos métodos utilizados\n",
        "#Ferramentas BI\n",
        "dados['Microsoft Power BI']               = dadosOri[\"('P27', 'microsoft_powerbi')\"]           \n",
        "dados['Tableau']                          = dadosOri[\"('P27', 'tableau')\"]                     \n",
        "dados['Metabase']                         = dadosOri[\"('P27', 'no_bi_tool_at_work')\"]          \n",
        "dados['Não Utiliza Ferramentas de BI']    = dadosOri[\"('P27', 'metabase')\"]                   \n",
        "dados['Google Data Studio']               = dadosOri[\"('P27', 'google_data_studio')\"]          \n",
        "dados['Excel/Gsheets']                    = dadosOri[\"('P27', 'only_excel_gsheets')\"]          \n",
        "dados['QlikView / Qlik Sense']            = dadosOri[\"('P27', 'qlik_view_qlik_sense')\"]        \n",
        "dados['Outras']                           = dadosOri[\"('P27', 'other')\"]                       \n",
        "dados['MicroStrategy']                    = dadosOri[\"('P27', 'microstrategy')\"]               \n",
        "dados['Redash']                           = dadosOri[\"('P27', 'redash')\"]                      \n",
        "dados['IBM Cognos Analytics']             = dadosOri[\"('P27', 'ibm_analytics_cognos')\"]        \n",
        "dados['SAP BusinessObjects']              = dadosOri[\"('P27', 'sap_business_objects')\"]        \n",
        "dados['Superset']                         = dadosOri[\"('P27', 'superset')\"]                    \n",
        "dados['Looker']                           = dadosOri[\"('P27', 'looker')\"]                      \n",
        "dados['Oracle Business Intelligence']     = dadosOri[\"('P27', 'oracle_business_intelligence')\"]\n",
        "dados['Birst']                            = dadosOri[\"('P27', 'birst')\"]  \n",
        "\n",
        "#Métodos Utilizados\n",
        "dados['Linear Regression']         \t\t\t= dadosOri[\"('P20', 'linear_regression')\"]         \n",
        "dados['Decision Tree']             \t\t\t= dadosOri[\"('P20', 'decision_tree')\"]             \n",
        "dados['Logistic Regression']       \t\t\t= dadosOri[\"('P20', 'logistic_regression')\"]       \n",
        "dados['Cluster Analysis']          \t\t\t= dadosOri[\"('P20', 'cluster_analysis')\"]          \n",
        "dados['Random Forest']             \t\t\t= dadosOri[\"('P20', 'random_forest')\"]             \n",
        "dados['Neural Networks']           \t\t\t= dadosOri[\"('P20', 'neural_networks')\"]           \n",
        "dados['NLP']                       \t\t\t= dadosOri[\"('P20', 'nlp')\"]                       \n",
        "dados['Bayesian Inference']        \t\t\t= dadosOri[\"('P20', 'bayesian_inference')\"]        \n",
        "dados['Others']         \t\t  \t  \t\t  = dadosOri[\"('P20', 'no_listed_methods')\"]         \n",
        "dados['Support Vector Machine']    \t\t\t= dadosOri[\"('P20', 'svms')\"]                      \n",
        "dados['Gradient Boosted Machines'] \t\t\t= dadosOri[\"('P20', 'gradient_boosted_machines')\"] \n",
        "dados['Ensemble']                  \t\t\t= dadosOri[\"('P20', 'ensemble')\"]                  \n",
        "dados['Generalized Linear Model']  \t\t\t= dadosOri[\"('P20', 'glms')\"]                      \n",
        "dados['Convolutional neural network'] \t= dadosOri[\"('P20', 'cnns')\"]                      \n",
        "dados['Longitudinal Data Analysis']\t\t\t= dadosOri[\"('P20', 'longitudinal_data_analysis')\"]\n",
        "dados['Recurrent Neural Network']      \t= dadosOri[\"('P20', 'rnns')\"]                      \n",
        "dados['Joint Analysis']            \t\t\t= dadosOri[\"('P20', 'joint analysis')\"]            \n",
        "dados['Markov Chain']             \t\t\t= dadosOri[\"('P20', 'markov_chains')\"]             \n",
        "dados['Survival Analysis']         \t\t\t= dadosOri[\"('P20', 'survival_analysis')\"]         \n",
        "dados['Generative Adversarial Networks'] \t= dadosOri[\"('P20', 'gans')\"]                      \n",
        "dados['Hidden Markov Model']             \t= dadosOri[\"('P20', 'hmms')\"]  \n",
        "\n",
        "#Linguagens Utilizadas\n",
        "dados['Python']                 = dadosOri[\"('P21', 'python')\"]            \n",
        "dados['SQL']                   \t= dadosOri[\"('P21', 'sql_')\"]                   \n",
        "dados['R']                      = dadosOri[\"('P21', 'r')\"]                 \n",
        "dados['Java']                   = dadosOri[\"('P21', 'java')\"]                   \n",
        "dados['VBA']       \t\t\t\t      = dadosOri[\"('P21', 'visual_basic_vba')\"]       \n",
        "dados['C/C++/C#']               = dadosOri[\"('P21', 'c_c++_c#')\"]               \n",
        "dados['Scala']                  = dadosOri[\"('P21', 'scala')\"]                  \n",
        "dados['SAS']              \t\t  = dadosOri[\"('P21', 'sas_stata')\"]              \n",
        "dados['PHP']                    = dadosOri[\"('P21', 'php')\"]                    \n",
        "dados['.Net']                 \t= dadosOri[\"('P21', 'dotnet')\"]                 \n",
        "dados['Matlab']                 = dadosOri[\"('P21', 'matlab')\"]                 \n",
        "dados['Julia']                  = dadosOri[\"('P21', 'julia')\"]                  \n",
        "dados['Nenhuma das Listadas']   = dadosOri[\"('P21', 'no_listed_languages')\"]  \n",
        "\n",
        "\n",
        "col_metodos     = ['Linear Regression', 'Decision Tree','Logistic Regression', 'Cluster Analysis', 'Random Forest','Neural Networks', 'NLP', 'Bayesian Inference', 'Others', 'Support Vector Machine', 'Gradient Boosted Machines', 'Ensemble', 'Generalized Linear Model', 'Convolutional neural network', 'Longitudinal Data Analysis', 'Recurrent Neural Network', 'Joint Analysis', 'Markov Chain','Survival Analysis','Generative Adversarial Networks','Hidden Markov Model']\n",
        "col_linguagens  = ['Python', 'SQL', 'R', 'Java', 'VBA', 'C/C++/C#', 'Scala', 'SAS', 'PHP', '.Net', 'Matlab', 'Julia', 'Nenhuma das Listadas']     \n",
        "col_bitools     = ['Microsoft Power BI', 'Tableau', 'Metabase', 'Não Utiliza Ferramentas de BI', 'Google Data Studio', 'Excel/Gsheets', 'QlikView / Qlik Sense', 'Outras', 'MicroStrategy', 'Redash', 'IBM Cognos Analytics', 'SAP BusinessObjects', 'Superset', 'Looker', 'Oracle Business Intelligence', 'Birst']\n"
      ],
      "execution_count": 8,
      "outputs": []
    },
    {
      "cell_type": "markdown",
      "metadata": {
        "id": "A2sJyb_PZ9hg"
      },
      "source": [
        "##**6 - Perfil Básico dos participantes** <a name=\"perfil\"></a>\n",
        "\n",
        "##**6.1 - Sexo** <a name=\"sexo\"></a>\n",
        "\n",
        "Nota-se uma discrepância grande entre os sexos na área, com uma grande predominância do sexo masculino. "
      ]
    },
    {
      "cell_type": "code",
      "metadata": {
        "colab": {
          "base_uri": "https://localhost:8080/",
          "height": 266
        },
        "id": "jsbO5RdtRg1V",
        "outputId": "e8e2712c-618d-410b-88f3-34bae936f5fd"
      },
      "source": [
        "dados['sexo'].groupby(dados['sexo']).count().plot.pie(autopct=\"%.2f\", colors=['#20B2AA', '#87CEEB'])"
      ],
      "execution_count": 24,
      "outputs": [
        {
          "output_type": "execute_result",
          "data": {
            "text/plain": [
              "<matplotlib.axes._subplots.AxesSubplot at 0x7f34b356c2d0>"
            ]
          },
          "metadata": {
            "tags": []
          },
          "execution_count": 24
        },
        {
          "output_type": "display_data",
          "data": {
            "image/png": "[encoded data removed]",
            "text/plain": [
              "<Figure size 432x288 with 1 Axes>"
            ]
          },
          "metadata": {
            "tags": []
          }
        }
      ]
    },
    {
      "cell_type": "markdown",
      "metadata": {
        "id": "kdG8rkNxyc0l"
      },
      "source": [
        "##**6.2 - Idade** <a name=\"Idade\"></a>\n",
        "\n",
        "A maior parte dos profissionais se encontram entre 25 e 40 anos (68% dos entrevistados), tendo uma concentração maior na faixa entre 25 e 30."
      ]
    },
    {
      "cell_type": "code",
      "metadata": {
        "colab": {
          "base_uri": "https://localhost:8080/",
          "height": 324
        },
        "id": "ew5Eq60saILV",
        "outputId": "e81e84a0-bbdc-4524-8ccf-565cd80e8eef"
      },
      "source": [
        "dados['idade_disc'].groupby(dados['idade_disc']).count().plot(kind=\"bar\", color='#20B2AA')"
      ],
      "execution_count": 10,
      "outputs": [
        {
          "output_type": "execute_result",
          "data": {
            "text/plain": [
              "<matplotlib.axes._subplots.AxesSubplot at 0x7f34b426ced0>"
            ]
          },
          "metadata": {
            "tags": []
          },
          "execution_count": 10
        },
        {
          "output_type": "display_data",
          "data": {
            "image/png": "[encoded data removed]",
            "text/plain": [
              "<Figure size 432x288 with 1 Axes>"
            ]
          },
          "metadata": {
            "tags": [],
            "needs_background": "light"
          }
        }
      ]
    },
    {
      "cell_type": "markdown",
      "metadata": {
        "id": "1Ly2rI_0z8nI"
      },
      "source": [
        "##**6.3 - Cargos** <a name=\"cargo\"></a>\n",
        "\n",
        "Apesar de termos um bom número de profissionais nos 5 cargos propostos na classificação, ainda temos uma concentração grande em Outras classificações mostrando que há uma descentralização grande ainda na atuação com dados entre os cargos e profissões. "
      ]
    },
    {
      "cell_type": "code",
      "metadata": {
        "colab": {
          "base_uri": "https://localhost:8080/",
          "height": 282
        },
        "id": "iu5hGcaVbJlS",
        "outputId": "81128d6a-cc31-4621-e187-24c696b7dc30"
      },
      "source": [
        "#Por cargo\n",
        "dados['cargo'].groupby(dados['cargo']).count().sort_values().plot(kind=\"barh\", color='#20B2AA')"
      ],
      "execution_count": 11,
      "outputs": [
        {
          "output_type": "execute_result",
          "data": {
            "text/plain": [
              "<matplotlib.axes._subplots.AxesSubplot at 0x7f34b3d852d0>"
            ]
          },
          "metadata": {
            "tags": []
          },
          "execution_count": 11
        },
        {
          "output_type": "display_data",
          "data": {
            "image/png": "[encoded data removed]",
            "text/plain": [
              "<Figure size 432x288 with 1 Axes>"
            ]
          },
          "metadata": {
            "tags": [],
            "needs_background": "light"
          }
        }
      ]
    },
    {
      "cell_type": "markdown",
      "metadata": {
        "id": "jNhYfyxR2_rn"
      },
      "source": [
        "##**6.4 - Escolaridade** <a name=\"escolaridade\"></a>\n",
        "\n",
        "A maior parte dos profissionais possuem Graduação, seguido por profissionais com pós graduação, mostrando que a formação é um parâmetro significante para atuação na área."
      ]
    },
    {
      "cell_type": "code",
      "metadata": {
        "id": "DdHgjgAAYePz",
        "colab": {
          "base_uri": "https://localhost:8080/",
          "height": 282
        },
        "outputId": "9e68838e-b1e5-4726-c287-c04322bfd712"
      },
      "source": [
        "dados.groupby(['escolaridade'])['escolaridade'].count().sort_values().T.plot(kind=\"barh\", color='#20B2AA')"
      ],
      "execution_count": 32,
      "outputs": [
        {
          "output_type": "execute_result",
          "data": {
            "text/plain": [
              "<matplotlib.axes._subplots.AxesSubplot at 0x7f34b30e6590>"
            ]
          },
          "metadata": {
            "tags": []
          },
          "execution_count": 32
        },
        {
          "output_type": "display_data",
          "data": {
            "image/png": "[encoded data removed]",
            "text/plain": [
              "<Figure size 432x288 with 1 Axes>"
            ]
          },
          "metadata": {
            "tags": [],
            "needs_background": "light"
          }
        }
      ]
    },
    {
      "cell_type": "markdown",
      "metadata": {
        "id": "l290zCs-39iJ"
      },
      "source": [
        "##**6.5 - Remuneração** <a name=\"remuneracao\"></a>\n",
        "\n",
        "A remuneração dos profissionais tem uma grande variação na faixa de 3.500 a 10.000, sendo a maior concentração por volta de 5.000 ."
      ]
    },
    {
      "cell_type": "code",
      "metadata": {
        "colab": {
          "base_uri": "https://localhost:8080/",
          "height": 328
        },
        "id": "BfMrYw66dEWC",
        "outputId": "107af627-59e2-4209-e632-876214a405cf"
      },
      "source": [
        "dados['salario'].groupby(dados['salario']).count().plot(kind=\"bar\", color='#20B2AA')"
      ],
      "execution_count": 27,
      "outputs": [
        {
          "output_type": "execute_result",
          "data": {
            "text/plain": [
              "<matplotlib.axes._subplots.AxesSubplot at 0x7f34b33e5c10>"
            ]
          },
          "metadata": {
            "tags": []
          },
          "execution_count": 27
        },
        {
          "output_type": "display_data",
          "data": {
            "image/png": "[encoded data removed]",
            "text/plain": [
              "<Figure size 432x288 with 1 Axes>"
            ]
          },
          "metadata": {
            "tags": [],
            "needs_background": "light"
          }
        }
      ]
    },
    {
      "cell_type": "markdown",
      "metadata": {
        "id": "vF-NUFc97vQJ"
      },
      "source": [
        "##**7 - Cientista de Dados** <a name=\"ds\"></a>\n",
        "\n",
        "##**7.1 - Identificação com Data Science** <a name=\"identifica\"></a>\n",
        "\n",
        "Sendo questionados se consideram ser profissionais de Data Science, apenas 52% responderam que sim, isso pode indicar ainda uma falta de identidade da profissão, visto que muitos dos cargos indicados indicariam sim a atuação na área."
      ]
    },
    {
      "cell_type": "code",
      "metadata": {
        "colab": {
          "base_uri": "https://localhost:8080/",
          "height": 266
        },
        "id": "HssJqpwJbo8b",
        "outputId": "c6b24f1a-58a6-450c-808a-1af631fb2c8b"
      },
      "source": [
        "dados['se_considera_ds'].groupby(dados['se_considera_ds']).count().plot.pie(autopct=\"%.0f\", colors=['#20B2AA', '#87CEEB'])"
      ],
      "execution_count": 14,
      "outputs": [
        {
          "output_type": "execute_result",
          "data": {
            "text/plain": [
              "<matplotlib.axes._subplots.AxesSubplot at 0x7f34b3bddf10>"
            ]
          },
          "metadata": {
            "tags": []
          },
          "execution_count": 14
        },
        {
          "output_type": "display_data",
          "data": {
            "image/png": "[encoded data removed]",
            "text/plain": [
              "<Figure size 432x288 with 1 Axes>"
            ]
          },
          "metadata": {
            "tags": []
          }
        }
      ]
    },
    {
      "cell_type": "markdown",
      "metadata": {
        "id": "tRWbS68_8K4T"
      },
      "source": [
        "Mas quando consideramos os cargos mais diretamente associdados como Cientista de Dados, a auto percepção sobe para 96%."
      ]
    },
    {
      "cell_type": "code",
      "metadata": {
        "id": "sC0gzhX11rW-",
        "colab": {
          "base_uri": "https://localhost:8080/",
          "height": 266
        },
        "outputId": "fdf4b3fc-4211-4a24-bfaa-c39b464812a5"
      },
      "source": [
        "#Dados apenas de Cientista de Dados\n",
        "cds = dados[dados['cargo'] == 'Cientista de Dados']\n",
        "cds['se_considera_ds'].groupby(dados['se_considera_ds']).count().plot.pie(autopct=\"%.0f\", colors=['#20B2AA', '#87CEEB'])"
      ],
      "execution_count": 15,
      "outputs": [
        {
          "output_type": "execute_result",
          "data": {
            "text/plain": [
              "<matplotlib.axes._subplots.AxesSubplot at 0x7f34b3ba0810>"
            ]
          },
          "metadata": {
            "tags": []
          },
          "execution_count": 15
        },
        {
          "output_type": "display_data",
          "data": {
            "image/png": "[encoded data removed]",
            "text/plain": [
              "<Figure size 432x288 with 1 Axes>"
            ]
          },
          "metadata": {
            "tags": []
          }
        }
      ]
    },
    {
      "cell_type": "markdown",
      "metadata": {
        "id": "1Zkl9arxFp9k"
      },
      "source": [
        "##**7.2 - Remuneração** <a name=\"remuneracaods\"></a>\n",
        "\n",
        "##**7.2.1 - Pela idade e tamanho da Empresa** <a name=\"remuneracaods1\"></a>\n",
        "Relacionando a remuneração desses profissionais pelo tamanho da empresa e também pela idade, considerando apenas profissionais \"Não Gestores\", \n",
        "notamos que as melhores remunerações tendem a estar nas empresas maiores, apesar que em profissionais mais jovens a remuneração são mais próximas independente do tamanho da empresa.\n",
        "Também há uma valorização dos profissionais mais velhos, apesar que acima de 40 anos apenas as empresas maiores mantêm essa tendência."
      ]
    },
    {
      "cell_type": "code",
      "metadata": {
        "id": "ZkOFlt5ANIuD"
      },
      "source": [
        "#SALÁRIO Cientista de Dados NÃO GESTORES\n",
        "cds_ng = cds[cds['gestor'] == 'não']"
      ],
      "execution_count": 16,
      "outputs": []
    },
    {
      "cell_type": "code",
      "metadata": {
        "colab": {
          "base_uri": "https://localhost:8080/",
          "height": 324
        },
        "id": "WyrvhaBGwI09",
        "outputId": "a94b4438-0864-4d67-8bca-54b56b356a1e"
      },
      "source": [
        "#Salário Não Gestores conforme o tamanho da empresa\n",
        "cds_ng.groupby(['tamanho_empresa','idade_disc']).mean()['salario'].unstack().T.plot.bar(color=['#20B2AA', '#87CEEB','#6B8E23'])"
      ],
      "execution_count": 31,
      "outputs": [
        {
          "output_type": "execute_result",
          "data": {
            "text/plain": [
              "<matplotlib.axes._subplots.AxesSubplot at 0x7f34b314fd90>"
            ]
          },
          "metadata": {
            "tags": []
          },
          "execution_count": 31
        },
        {
          "output_type": "display_data",
          "data": {
            "image/png": "[encoded data removed]",
            "text/plain": [
              "<Figure size 432x288 with 1 Axes>"
            ]
          },
          "metadata": {
            "tags": [],
            "needs_background": "light"
          }
        }
      ]
    },
    {
      "cell_type": "markdown",
      "metadata": {
        "id": "S647k2Mh9TLa"
      },
      "source": [
        "##**7.3.2 - Pelo Tempo de Experiência em Dados** <a name=\"remuneracaods2\"></a>\n",
        "\n",
        "O tempo de experiência com dados parece contribuir também com a remuneração, sendo de forma mais relevante quando os profissionais possuem de 4 a 10 anos na área. "
      ]
    },
    {
      "cell_type": "code",
      "metadata": {
        "colab": {
          "base_uri": "https://localhost:8080/",
          "height": 282
        },
        "id": "lt9KGmhrvsU1",
        "outputId": "e130abf6-818e-49e6-9936-d815a3a23598"
      },
      "source": [
        "#SALÁRIO conforme o tempo de experiência na área de dados\n",
        "cds_ng.groupby(['experiencia_ds']).mean()['salario'].sort_values().plot.barh(color=['#20B2AA'])"
      ],
      "execution_count": 18,
      "outputs": [
        {
          "output_type": "execute_result",
          "data": {
            "text/plain": [
              "<matplotlib.axes._subplots.AxesSubplot at 0x7f34b460bcd0>"
            ]
          },
          "metadata": {
            "tags": []
          },
          "execution_count": 18
        },
        {
          "output_type": "display_data",
          "data": {
            "image/png": "[encoded data removed]",
            "text/plain": [
              "<Figure size 432x288 with 1 Axes>"
            ]
          },
          "metadata": {
            "tags": [],
            "needs_background": "light"
          }
        }
      ]
    },
    {
      "cell_type": "markdown",
      "metadata": {
        "id": "W1xJZ2JlHnuq"
      },
      "source": [
        "##**7.3.3 - Pelo Tempo de Experiência em TI** <a name=\"remuneracaods3\"></a>\n",
        "\n",
        "Da mesma forma como na visão anterior, o tempo de experiência anterior na área de TI também é recompensada."
      ]
    },
    {
      "cell_type": "code",
      "metadata": {
        "colab": {
          "base_uri": "https://localhost:8080/",
          "height": 282
        },
        "id": "K7JynjTgx6iv",
        "outputId": "eb4df15f-2ad6-4619-b942-3db3dbd9aadd"
      },
      "source": [
        "#SALÁRIO conforme o tempo de experiência em TI/Engenharia de Software antes de começar a trabalhar na área de dados\n",
        "cds_ng.groupby(['experiencia_ant']).mean()['salario'].sort_values().plot.barh(color=['#20B2AA'])"
      ],
      "execution_count": 19,
      "outputs": [
        {
          "output_type": "execute_result",
          "data": {
            "text/plain": [
              "<matplotlib.axes._subplots.AxesSubplot at 0x7f34b3a1e750>"
            ]
          },
          "metadata": {
            "tags": []
          },
          "execution_count": 19
        },
        {
          "output_type": "display_data",
          "data": {
            "image/png": "[encoded data removed]",
            "text/plain": [
              "<Figure size 432x288 with 1 Axes>"
            ]
          },
          "metadata": {
            "tags": [],
            "needs_background": "light"
          }
        }
      ]
    },
    {
      "cell_type": "markdown",
      "metadata": {
        "id": "K6BSSZWAIp8N"
      },
      "source": [
        "##**7.4 - Tecnologias** <a name=\"tecnologia\"></a>\n",
        "\n",
        "##**7.4.1 - Ferramentas de BI** <a name=\"toolbi\"></a>\n",
        "\n",
        "Dentre as ferramentas de BI utilizadas temos nas 3 primeiras posições: Power Bi, Metabase e Tableau"
      ]
    },
    {
      "cell_type": "code",
      "metadata": {
        "colab": {
          "base_uri": "https://localhost:8080/",
          "height": 392
        },
        "id": "oxWMzWv1I1Oz",
        "outputId": "c94799d1-36fe-4635-88a6-4dcfe36a2e15"
      },
      "source": [
        "#Ferramentas BI\n",
        "cds[col_bitools].mean().sort_values(ascending = True).plot(kind='barh', figsize=(8, 6), color='#20B2AA')"
      ],
      "execution_count": 20,
      "outputs": [
        {
          "output_type": "execute_result",
          "data": {
            "text/plain": [
              "<matplotlib.axes._subplots.AxesSubplot at 0x7f34b39aa250>"
            ]
          },
          "metadata": {
            "tags": []
          },
          "execution_count": 20
        },
        {
          "output_type": "display_data",
          "data": {
            "image/png": "[encoded data removed]",
            "text/plain": [
              "<Figure size 576x432 with 1 Axes>"
            ]
          },
          "metadata": {
            "tags": [],
            "needs_background": "light"
          }
        }
      ]
    },
    {
      "cell_type": "markdown",
      "metadata": {
        "id": "HaFua8q-ZHSX"
      },
      "source": [
        "##**7.4.2 - Linguagens** <a name=\"linguagem\"></a>\n",
        "\n",
        "Já nas linguagens mais utilizadas temo o Python e SQL, tendo o R em 3º lugar ainda em posição relevante comparando as demais."
      ]
    },
    {
      "cell_type": "code",
      "metadata": {
        "colab": {
          "base_uri": "https://localhost:8080/",
          "height": 392
        },
        "id": "ZdvnO0QB3_Li",
        "outputId": "685939d8-d1fe-449a-fa20-34184cfc2880"
      },
      "source": [
        "#Linguagens\n",
        "cds[col_linguagens].mean().sort_values(ascending = True).plot(kind='barh', figsize=(8, 6), color='#20B2AA')"
      ],
      "execution_count": 21,
      "outputs": [
        {
          "output_type": "execute_result",
          "data": {
            "text/plain": [
              "<matplotlib.axes._subplots.AxesSubplot at 0x7f34b392f390>"
            ]
          },
          "metadata": {
            "tags": []
          },
          "execution_count": 21
        },
        {
          "output_type": "display_data",
          "data": {
            "image/png": "[encoded data removed]",
            "text/plain": [
              "<Figure size 576x432 with 1 Axes>"
            ]
          },
          "metadata": {
            "tags": [],
            "needs_background": "light"
          }
        }
      ]
    },
    {
      "cell_type": "markdown",
      "metadata": {
        "id": "ehRgfCELZ7XS"
      },
      "source": [
        "##**7.4.3 - Algorítmos** <a name=\"algoritmo\"></a>\n",
        "\n",
        "Em se tratando dos métodos utilizados temos a Regressão Linear como o mais comum, mas ainda a Regressão Logística, Árvore de Decisão, Random Forest e Cluster Analysis completando as 5 mais utilizadas."
      ]
    },
    {
      "cell_type": "code",
      "metadata": {
        "colab": {
          "base_uri": "https://localhost:8080/",
          "height": 610
        },
        "id": "lUQEdNaZ8Q1p",
        "outputId": "3300d53c-1830-4ead-e05e-a8a5afcc0de1"
      },
      "source": [
        "#Metodos Utilizados por profissionais classificados como Cientista de Dados \n",
        "cds[col_metodos].mean().sort_values(ascending=True).plot(kind='barh', figsize=(8, 10), color='#20B2AA')"
      ],
      "execution_count": 22,
      "outputs": [
        {
          "output_type": "execute_result",
          "data": {
            "text/plain": [
              "<matplotlib.axes._subplots.AxesSubplot at 0x7f34b3bdd1d0>"
            ]
          },
          "metadata": {
            "tags": []
          },
          "execution_count": 22
        },
        {
          "output_type": "display_data",
          "data": {
            "image/png": "[encoded data removed]",
            "text/plain": [
              "<Figure size 576x720 with 1 Axes>"
            ]
          },
          "metadata": {
            "tags": [],
            "needs_background": "light"
          }
        }
      ]
    }
  ]
}